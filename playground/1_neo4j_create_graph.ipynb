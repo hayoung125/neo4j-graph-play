{
 "cells": [
  {
   "cell_type": "code",
   "execution_count": 2,
   "metadata": {},
   "outputs": [
    {
     "name": "stderr",
     "output_type": "stream",
     "text": [
      "2025-01-03 20:25:49 | root         | INFO     | Neo4j connection established\n"
     ]
    }
   ],
   "source": [
    "from src.neo4j_connector import Neo4jConnector\n",
    "from config import CFG_SERVICE\n",
    "\n",
    "conn = Neo4jConnector(\n",
    "    uri=CFG_SERVICE.neo4j.uri,\n",
    "    username=CFG_SERVICE.neo4j.username,\n",
    "    password=CFG_SERVICE.neo4j.password,\n",
    ")"
   ]
  },
  {
   "cell_type": "code",
   "execution_count": 18,
   "metadata": {},
   "outputs": [],
   "source": [
    "cypher_querys = [\n",
    "    \"CREATE (파이썬_프로그래밍_기초:lecture {name: '파이썬 프로그래밍 기초', instructor: '김호열', learning_time: '10시간', launch_date: '2020-01-01', rating: 4.5})\",\n",
    "    \"CREATE (자바스크립트_완벽_가이드:lecture {name: '자바스크립트 완벽 가이드', instructor: '이수진', learning_time: '12시간', launch_date: '2020-02-15', rating: 4.7})\",\n",
    "    \"CREATE (웹_개발의_모든_것:lecture {name: '웹 개발의 모든 것', instructor: '박민수', learning_time: '15시간', launch_date: '2020-03-10', rating: 4.6})\",\n",
    "    \"CREATE (데이터베이스_기초:lecture {name: '데이터베이스 기초', instructor: '최지훈', learning_time: '8시간', launch_date: '2020-04-20', rating: 4.4})\",\n",
    "    \"CREATE (머신러닝_입문:lecture {name: '머신러닝 입문', instructor: '김영희', learning_time: '20시간', launch_date: '2020-05-30', rating: 4.8})\",\n",
    "    \"CREATE (안드로이드_앱_개발:lecture {name: '안드로이드 앱 개발', instructor: '이상훈', learning_time: '25시간', launch_date: '2020-06-15', rating: 4.5})\",\n",
    "    \"CREATE (클라우드_컴퓨팅_기초:lecture {name: '클라우드 컴퓨팅 기초', instructor: '정수민', learning_time: '18시간', launch_date: '2020-07-01', rating: 4.3})\",\n",
    "    \"CREATE (UIUX_디자인_기초:lecture {name: 'UIUX 디자인 기초', instructor: '김지현', learning_time: '14시간', launch_date: '2020-08-10', rating: 4.6})\",\n",
    "    # \"CREATE (사물인터넷_IoT_기초:lecture {name: '사물인터넷 IoT 기초', instructor: '이재훈', learning_time: '22시간', launch_date: '2020-09-05', rating: 4.7})\",\n",
    "    # \"CREATE (사이버_보안_기초:lecture {name: '사이버 보안 기초', instructor: '최민수', learning_time: '16시간', launch_date: '2020-10-20', rating: 4.5})\",\n",
    "    # \"CREATE (김호열:instructor {name: '김호열', college: '서울대학교', career: '10년', position: '교수', organization: '서울대학교 컴퓨터공학부'})\",\n",
    "    # \"CREATE (이수진:instructor {name: '이수진', college: '고려대학교', career: '8년', position: '강사', organization: '고려대학교 정보대학'})\",\n",
    "    # \"CREATE (박민수:instructor {name: '박민수', college: '연세대학교', career: '12년', position: '부교수', organization: '연세대학교 소프트웨어학과'})\",\n",
    "    # \"CREATE (최지훈:instructor {name: '최지훈', college: 'KAIST', career: '5년', position: '조교수', organization: 'KAIST 전산학부'})\",\n",
    "    # \"CREATE (김영희:instructor {name: '김영희', college: 'POSTECH', career: '7년', position: '강사', organization: 'POSTECH 컴퓨터공학과'})\",\n",
    "    # \"CREATE (이상훈:instructor {name: '이상훈', college: '성균관대학교', career: '9년', position: '교수', organization: '성균관대학교 소프트웨어학과'})\",\n",
    "    # \"CREATE (정수민:instructor {name: '정수민', college: '한양대학교', career: '6년', position: '강사', organization: '한양대학교 정보통신대학'})\",\n",
    "    # \"CREATE (김지현:instructor {name: '김지현', college: '중앙대학교', career: '4년', position: '조교수', organization: '중앙대학교 디자인학부'})\",\n",
    "    # \"CREATE (이재훈:instructor {name: '이재훈', college: '부산대학교', career: '11년', position: '부교수', organization: '부산대학교 전자공학부'})\",\n",
    "    # \"CREATE (최민수:instructor {name: '최민수', college: '경희대학교', career: '3년', position: '강사', organization: '경희대학교 사이버보안학과'})\",\n",
    "    \"CREATE (파이썬_따라잡기:badge {name: '파이썬 따라잡기', level: '초급', learning_time: '10시간'})\",\n",
    "    \"CREATE (자바스크립트_마스터:badge {name: '자바스크립트 마스터', level: '중급', learning_time: '12시간'})\",\n",
    "    \"CREATE (웹_개발_전문가:badge {name: '웹 개발 전문가', level: '고급', learning_time: '15시간'})\",\n",
    "    \"CREATE (DB_기초:badge {name: 'DB 기초', level: '초급', learning_time: '8시간'})\",\n",
    "    \"CREATE (ML_초보:badge {name: 'ML 초보', level: '초급', learning_time: '20시간'})\",\n",
    "    \"CREATE (안드로이드_개발자:badge {name: '안드로이드 개발자', level: '중급', learning_time: '25시간'})\",\n",
    "    \"CREATE (클라우드_기초:badge {name: '클라우드 기초', level: '초급', learning_time: '18시간'})\",\n",
    "    \"CREATE (디자인_기초:badge {name: '디자인 기초', level: '초급', learning_time: '14시간'})\",\n",
    "    \"CREATE (IoT_초보ge9:badge {name: 'IoT 초보', level: '초급', learning_time: '22시간'})\",\n",
    "    \"CREATE (보안_기초:badge {name: '보안 기초', level: '초급', learning_time: '16시간'})\",\n",
    "]"
   ]
  },
  {
   "cell_type": "code",
   "execution_count": 21,
   "metadata": {},
   "outputs": [],
   "source": [
    "cypher_querys = [\n",
    "    \"\"\"MATCH (l:lecture), (i:instructor)\n",
    "WHERE l.instructor = i.name\n",
    "CREATE (i)-[:TEACHES]->(l)\"\"\",\n",
    "    \"\"\"MATCH (l:lecture), (b:badge)\n",
    "WHERE l.badge = b.name\n",
    "CREATE (l)-[:HAS_BADGE]->(b)\"\"\",\n",
    "]"
   ]
  },
  {
   "cell_type": "code",
   "execution_count": 22,
   "metadata": {},
   "outputs": [
    {
     "name": "stdout",
     "output_type": "stream",
     "text": [
      "3\n"
     ]
    },
    {
     "name": "stderr",
     "output_type": "stream",
     "text": [
      "2025-01-03 20:38:13 | root         | INFO     | Query executed successfully\n",
      "2025-01-03 20:38:13 | neo4j.notifications | INFO     | Received notification from DBMS server: {severity: INFORMATION} {code: Neo.ClientNotification.Statement.CartesianProduct} {category: PERFORMANCE} {title: This query builds a cartesian product between disconnected patterns.} {description: If a part of a query contains multiple disconnected patterns, this will build a cartesian product between all those parts. This may produce a large amount of data and slow down query processing. While occasionally intended, it may often be possible to reformulate the query that avoids the use of this cross product, perhaps by adding a relationship between the different parts or by using OPTIONAL MATCH (identifier is: (i))} {position: line: 1, column: 1, offset: 0} for query: 'MATCH (l:lecture), (i:instructor)\\nWHERE l.instructor = i.name\\nCREATE (i)-[:TEACHES]->(l)'\n",
      "2025-01-03 20:38:13 | root         | INFO     | Query executed successfully\n",
      "2025-01-03 20:38:13 | neo4j.notifications | INFO     | Received notification from DBMS server: {severity: INFORMATION} {code: Neo.ClientNotification.Statement.CartesianProduct} {category: PERFORMANCE} {title: This query builds a cartesian product between disconnected patterns.} {description: If a part of a query contains multiple disconnected patterns, this will build a cartesian product between all those parts. This may produce a large amount of data and slow down query processing. While occasionally intended, it may often be possible to reformulate the query that avoids the use of this cross product, perhaps by adding a relationship between the different parts or by using OPTIONAL MATCH (identifier is: (b))} {position: line: 1, column: 1, offset: 0} for query: 'MATCH (l:lecture), (b:badge)\\nWHERE l.badge = b.name\\nCREATE (l)-[:HAS_BADGE]->(b)'\n",
      "2025-01-03 20:38:13 | root         | INFO     | Query executed successfully\n",
      "2025-01-03 20:38:13 | neo4j.notifications | INFO     | Received notification from DBMS server: {severity: INFORMATION} {code: Neo.ClientNotification.Statement.CartesianProduct} {category: PERFORMANCE} {title: This query builds a cartesian product between disconnected patterns.} {description: If a part of a query contains multiple disconnected patterns, this will build a cartesian product between all those parts. This may produce a large amount of data and slow down query processing. While occasionally intended, it may often be possible to reformulate the query that avoids the use of this cross product, perhaps by adding a relationship between the different parts or by using OPTIONAL MATCH (identifier is: (k))} {position: line: 1, column: 1, offset: 0} for query: 'MATCH (l:lecture), (k:knowledge)\\nWHERE l.name = k.reference_name\\nCREATE (l)-[:COVERS]->(k)'\n"
     ]
    }
   ],
   "source": [
    "print(len(cypher_querys))\n",
    "results = []\n",
    "for cypher_query in cypher_querys:\n",
    "    results.append(conn.execute_query(query=cypher_query))"
   ]
  },
  {
   "cell_type": "code",
   "execution_count": 5,
   "metadata": {},
   "outputs": [
    {
     "data": {
      "text/plain": [
       "[]"
      ]
     },
     "execution_count": 5,
     "metadata": {},
     "output_type": "execute_result"
    }
   ],
   "source": [
    "results"
   ]
  },
  {
   "cell_type": "code",
   "execution_count": null,
   "metadata": {},
   "outputs": [],
   "source": []
  }
 ],
 "metadata": {
  "kernelspec": {
   "display_name": "graph",
   "language": "python",
   "name": "python3"
  },
  "language_info": {
   "codemirror_mode": {
    "name": "ipython",
    "version": 3
   },
   "file_extension": ".py",
   "mimetype": "text/x-python",
   "name": "python",
   "nbconvert_exporter": "python",
   "pygments_lexer": "ipython3",
   "version": "3.12.8"
  }
 },
 "nbformat": 4,
 "nbformat_minor": 2
}
