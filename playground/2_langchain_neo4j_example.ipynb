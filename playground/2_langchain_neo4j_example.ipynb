{
 "cells": [
  {
   "cell_type": "code",
   "execution_count": 1,
   "metadata": {},
   "outputs": [],
   "source": [
    "from langchain_neo4j import GraphCypherQAChain, Neo4jGraph\n",
    "\n",
    "from config import CFG_SERVICE\n",
    "from src.utils import get_langchain_azure_chat_llm\n",
    "\n",
    "LLM = get_langchain_azure_chat_llm()\n",
    "URL = CFG_SERVICE.neo4j.uri\n",
    "USERNAME = CFG_SERVICE.neo4j.username\n",
    "PASSWORD = CFG_SERVICE.neo4j.password\n",
    "\n",
    "graph = Neo4jGraph(url=URL, username=USERNAME, password=PASSWORD)"
   ]
  },
  {
   "cell_type": "code",
   "execution_count": 2,
   "metadata": {},
   "outputs": [
    {
     "name": "stdout",
     "output_type": "stream",
     "text": [
      "Node properties:\n",
      "Person {name: STRING, born: INTEGER}\n",
      "Movie {tagline: STRING, title: STRING, released: INTEGER}\n",
      "Relationship properties:\n",
      "ACTED_IN {roles: LIST}\n",
      "REVIEWED {summary: STRING, rating: INTEGER}\n",
      "The relationships:\n",
      "(:Person)-[:ACTED_IN]->(:Movie)\n",
      "(:Person)-[:DIRECTED]->(:Movie)\n",
      "(:Person)-[:PRODUCED]->(:Movie)\n",
      "(:Person)-[:WROTE]->(:Movie)\n",
      "(:Person)-[:FOLLOWS]->(:Person)\n",
      "(:Person)-[:REVIEWED]->(:Movie)\n"
     ]
    }
   ],
   "source": [
    "# If the schema of database changes, you can refresh the schema information needed to generate Cypher statements\n",
    "# graph.refresh_schema()\n",
    "print(graph.schema)"
   ]
  },
  {
   "cell_type": "code",
   "execution_count": 3,
   "metadata": {},
   "outputs": [
    {
     "name": "stdout",
     "output_type": "stream",
     "text": [
      "Node properties are the following:\n",
      "Person {name: STRING, born: INTEGER},Movie {tagline: STRING, title: STRING, released: INTEGER}\n",
      "Relationship properties are the following:\n",
      "ACTED_IN {roles: LIST},REVIEWED {summary: STRING, rating: INTEGER}\n",
      "The relationships are the following:\n",
      "(:Person)-[:ACTED_IN]->(:Movie),(:Person)-[:DIRECTED]->(:Movie),(:Person)-[:PRODUCED]->(:Movie),(:Person)-[:WROTE]->(:Movie),(:Person)-[:FOLLOWS]->(:Person),(:Person)-[:REVIEWED]->(:Movie)\n"
     ]
    }
   ],
   "source": [
    "from langchain_neo4j.chains.graph_qa.cypher import construct_schema\n",
    "\n",
    "graph_schema = construct_schema(\n",
    "    graph.get_structured_schema, include_types=[], exclude_types=[]\n",
    ")\n",
    "print(graph_schema)"
   ]
  },
  {
   "cell_type": "code",
   "execution_count": 4,
   "metadata": {},
   "outputs": [],
   "source": [
    "chain = GraphCypherQAChain.from_llm(\n",
    "    LLM,\n",
    "    graph=graph,\n",
    "    verbose=True,\n",
    "    allow_dangerous_requests=True,\n",
    "    return_intermediate_steps=True,\n",
    "    # return_direct,\n",
    "    # use_function_response=True,\n",
    "    # top_k=5,\n",
    ")"
   ]
  },
  {
   "cell_type": "code",
   "execution_count": 12,
   "metadata": {},
   "outputs": [
    {
     "name": "stdout",
     "output_type": "stream",
     "text": [
      "\n",
      "\n",
      "\u001b[1m> Entering new GraphCypherQAChain chain...\u001b[0m\n",
      "Generated Cypher:\n",
      "\u001b[32;1m\u001b[1;3mcypher\n",
      "MATCH (p:Person)-[:DIRECTED]->(m:Movie)<-[:ACTED_IN]-(a:Person)\n",
      "WHERE p.name = 'Tony Scott'\n",
      "RETURN a.name\n",
      "\u001b[0m\n",
      "Full Context:\n",
      "\u001b[32;1m\u001b[1;3m[{'a.name': 'Val Kilmer'}, {'a.name': 'Meg Ryan'}, {'a.name': 'Tom Skerritt'}, {'a.name': 'Kelly McGillis'}, {'a.name': 'Tom Cruise'}, {'a.name': 'Anthony Edwards'}]\u001b[0m\n",
      "\n",
      "\u001b[1m> Finished chain.\u001b[0m\n"
     ]
    }
   ],
   "source": [
    "res = chain.invoke({\"query\": \"Tony Scott 감독의 영화에 출연한 배우 알려줘\"})"
   ]
  },
  {
   "cell_type": "code",
   "execution_count": 13,
   "metadata": {},
   "outputs": [
    {
     "data": {
      "text/plain": [
       "{'query': 'Tony Scott 감독의 영화에 출연한 배우 알려줘',\n",
       " 'result': 'Val Kilmer, Meg Ryan, Tom Skerritt, Kelly McGillis, Tom Cruise, Anthony Edwards는 Tony Scott 감독의 영화에 출연한 배우들입니다.',\n",
       " 'intermediate_steps': [{'query': \"cypher\\nMATCH (p:Person)-[:DIRECTED]->(m:Movie)<-[:ACTED_IN]-(a:Person)\\nWHERE p.name = 'Tony Scott'\\nRETURN a.name\\n\"},\n",
       "  {'context': [{'a.name': 'Val Kilmer'},\n",
       "    {'a.name': 'Meg Ryan'},\n",
       "    {'a.name': 'Tom Skerritt'},\n",
       "    {'a.name': 'Kelly McGillis'},\n",
       "    {'a.name': 'Tom Cruise'},\n",
       "    {'a.name': 'Anthony Edwards'}]}]}"
      ]
     },
     "execution_count": 13,
     "metadata": {},
     "output_type": "execute_result"
    }
   ],
   "source": [
    "res"
   ]
  },
  {
   "cell_type": "code",
   "execution_count": 14,
   "metadata": {},
   "outputs": [
    {
     "name": "stdout",
     "output_type": "stream",
     "text": [
      "\n",
      "\n",
      "\u001b[1m> Entering new GraphCypherQAChain chain...\u001b[0m\n",
      "Generated Cypher:\n",
      "\u001b[32;1m\u001b[1;3mMATCH (p:Person {name: 'Tony Scott'})-[:DIRECTED]->(m:Movie)<-[:ACTED_IN]-(a:Person {name: 'Tom Cruise'}) RETURN m.title, m.tagline, m.released\u001b[0m\n",
      "Full Context:\n",
      "\u001b[32;1m\u001b[1;3m[{'m.title': 'Top Gun', 'm.tagline': 'I feel the need, the need for speed.', 'm.released': 1986}]\u001b[0m\n",
      "\n",
      "\u001b[1m> Finished chain.\u001b[0m\n"
     ]
    }
   ],
   "source": [
    "res = chain.invoke(\n",
    "    {\"query\": \"Tony Scott이 감독을 하고 Tom Cruise가 출연한 영화가 뭐야?\"}\n",
    ")"
   ]
  },
  {
   "cell_type": "code",
   "execution_count": 11,
   "metadata": {},
   "outputs": [
    {
     "data": {
      "text/plain": [
       "{'query': 'Top Gun의 감독은 누구인가요?',\n",
       " 'result': 'Top Gun의 감독은 Tony Scott입니다.',\n",
       " 'intermediate_steps': [{'query': 'MATCH (p:Person)-[:DIRECTED]->(m:Movie {title: \"Top Gun\"}) RETURN p.name'},\n",
       "  {'context': [{'p.name': 'Tony Scott'}]}]}"
      ]
     },
     "execution_count": 11,
     "metadata": {},
     "output_type": "execute_result"
    }
   ],
   "source": [
    "res"
   ]
  },
  {
   "cell_type": "code",
   "execution_count": null,
   "metadata": {},
   "outputs": [],
   "source": []
  }
 ],
 "metadata": {
  "kernelspec": {
   "display_name": "graph",
   "language": "python",
   "name": "python3"
  },
  "language_info": {
   "codemirror_mode": {
    "name": "ipython",
    "version": 3
   },
   "file_extension": ".py",
   "mimetype": "text/x-python",
   "name": "python",
   "nbconvert_exporter": "python",
   "pygments_lexer": "ipython3",
   "version": "3.12.8"
  }
 },
 "nbformat": 4,
 "nbformat_minor": 2
}
